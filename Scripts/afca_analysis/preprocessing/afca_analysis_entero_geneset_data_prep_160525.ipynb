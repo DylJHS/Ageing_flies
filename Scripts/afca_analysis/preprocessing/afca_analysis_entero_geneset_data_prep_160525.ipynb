{
 "cells": [
  {
   "cell_type": "code",
   "execution_count": 1,
   "id": "c3906a9d",
   "metadata": {},
   "outputs": [],
   "source": [
    "# Description:\n",
    "\"\"\"\n",
    "This script processes a single-nucleus RNA-seq dataset from afca, removes cells with unspecified sex, \n",
    "and filters cell types with fewer than 200 total cells or fewer than 100 cells per age group. For each remaining cell type, \n",
    "it filters out lowly expressed genes, while retaining those expressed in at least 3 cells or included in the predefined gene list. \n",
    "Each processed cell type is saved as a separate .h5ad file.\n",
    "\"\"\"\n",
    "\n",
    "# Import the libraries\n",
    "import os\n",
    "import pandas as pd\n",
    "import scanpy as sc\n",
    "import anndata as ad\n",
    "import numpy as np\n",
    "import re "
   ]
  },
  {
   "cell_type": "code",
   "execution_count": 2,
   "id": "c6fdbbed",
   "metadata": {},
   "outputs": [],
   "source": [
    "# Set the functions\n",
    "def split_by_batch_prefix(name):\n",
    "    \"\"\"\n",
    "    Splits the string into two parts:\n",
    "    - Part before 'AFCA' or 'FCA'\n",
    "    - The rest starting with 'AFCA' or 'FCA'\n",
    "    \"\"\"\n",
    "    match = re.search(r'(AFCA|FCA)', name)\n",
    "    i = match.start()\n",
    "    return name[i:]"
   ]
  },
  {
   "cell_type": "code",
   "execution_count": 3,
   "id": "b33e5f42",
   "metadata": {},
   "outputs": [],
   "source": [
    "# load the dataset data and get the metadata\n",
    "adata = ad.read_h5ad(\"/hpc/shared/onco_janssen/dhaynessimmons/projects/ageing_flies/data/adata_body_S_v1.0.h5ad\")"
   ]
  },
  {
   "cell_type": "code",
   "execution_count": 4,
   "id": "ea5c066a",
   "metadata": {},
   "outputs": [
    {
     "name": "stdout",
     "output_type": "stream",
     "text": [
      "['tissue', 'sex', 'age', 'sex_age', 'n_genes_by_counts', 'total_counts', 'total_counts_mt', 'pct_counts_mt', 'log1p_n_genes_by_counts', 'log1p_total_counts', 'log1p_total_counts_mt', 'dataset', 'fca_annotation', 'afca_annotation', 'afca_annotation_broad']\n",
      "shape of full data:  (276273, 15992)\n",
      "\n",
      "Age value counts:  age\n",
      "5     96594\n",
      "30    84496\n",
      "70    49963\n",
      "50    45220\n",
      "Name: count, dtype: int64\n",
      "\n",
      "Sex value counts:  sex\n",
      "female    148049\n",
      "male      123879\n",
      "mix         4345\n",
      "Name: count, dtype: int64\n",
      "\n",
      "Dataset value counts:  dataset\n",
      "AFCA    179679\n",
      "FCA      96594\n",
      "Name: count, dtype: int64\n"
     ]
    }
   ],
   "source": [
    "# print out the basics\n",
    "print([i for i in adata.obs.columns])\n",
    "print(\"shape of full data: \", adata.shape)\n",
    "#value couns for important columns\n",
    "print(\"\\nAge value counts: \", adata.obs[\"age\"].value_counts())\n",
    "print(\"\\nSex value counts: \", adata.obs[\"sex\"].value_counts())\n",
    "print(\"\\nDataset value counts: \", adata.obs[\"dataset\"].value_counts())"
   ]
  },
  {
   "cell_type": "code",
   "execution_count": 5,
   "id": "83165470",
   "metadata": {},
   "outputs": [
    {
     "name": "stdout",
     "output_type": "stream",
     "text": [
      "\n",
      "Enterocyte subtypes:  ['adult differentiating enterocyte', 'adult midgut enterocyte', 'enterocyte of anterior adult midgut epithelium', 'enterocyte of posterior adult midgut epithelium', 'enterocyte-like']\n"
     ]
    }
   ],
   "source": [
    "# Get the unique afca cell types that are part of the enterocyte lineage\n",
    "entero_subtypes = []\n",
    "for cell_type in sorted(adata.obs['afca_annotation'].unique().tolist()):\n",
    "    if \"enterocyte\" in cell_type:\n",
    "        entero_subtypes.append(cell_type)\n",
    "print(\"\\nEnterocyte subtypes: \", entero_subtypes)\n"
   ]
  },
  {
   "cell_type": "code",
   "execution_count": 6,
   "id": "7ee5bcb3",
   "metadata": {},
   "outputs": [
    {
     "name": "stdout",
     "output_type": "stream",
     "text": [
      "(4345, 15)\n"
     ]
    }
   ],
   "source": [
    "# get cells where sex is neither F nor M\n",
    "mix_adata = adata[(adata.obs.sex != \"female\")&(adata.obs.sex != \"male\")]\n",
    "print(mix_adata.obs.shape)"
   ]
  },
  {
   "cell_type": "code",
   "execution_count": 7,
   "id": "841c1eb4",
   "metadata": {},
   "outputs": [
    {
     "name": "stdout",
     "output_type": "stream",
     "text": [
      "                                          tissue     sex age    sex_age  \\\n",
      "AAAGTGAGTACTCGAT-1_AFCA_female_body_30_S1   body  female  30  female_30   \n",
      "AACGAAATCGTTAGTG-1_AFCA_female_body_30_S1   body  female  30  female_30   \n",
      "AAGGTAAGTAGCACAG-1_AFCA_female_body_30_S1   body  female  30  female_30   \n",
      "AATCGACGTCTCACGG-1_AFCA_female_body_30_S1   body  female  30  female_30   \n",
      "AATGAAGGTTGGGTAG-1_AFCA_female_body_30_S1   body  female  30  female_30   \n",
      "\n",
      "                                           n_genes_by_counts  total_counts  \\\n",
      "AAAGTGAGTACTCGAT-1_AFCA_female_body_30_S1               1288        3819.0   \n",
      "AACGAAATCGTTAGTG-1_AFCA_female_body_30_S1               1167        3274.0   \n",
      "AAGGTAAGTAGCACAG-1_AFCA_female_body_30_S1               1506        5080.0   \n",
      "AATCGACGTCTCACGG-1_AFCA_female_body_30_S1               1206        3539.0   \n",
      "AATGAAGGTTGGGTAG-1_AFCA_female_body_30_S1               1301        3662.0   \n",
      "\n",
      "                                           total_counts_mt  pct_counts_mt  \\\n",
      "AAAGTGAGTACTCGAT-1_AFCA_female_body_30_S1              0.0       0.000000   \n",
      "AACGAAATCGTTAGTG-1_AFCA_female_body_30_S1              3.0       0.091631   \n",
      "AAGGTAAGTAGCACAG-1_AFCA_female_body_30_S1              3.0       0.059055   \n",
      "AATCGACGTCTCACGG-1_AFCA_female_body_30_S1              0.0       0.000000   \n",
      "AATGAAGGTTGGGTAG-1_AFCA_female_body_30_S1              1.0       0.027307   \n",
      "\n",
      "                                           log1p_n_genes_by_counts  \\\n",
      "AAAGTGAGTACTCGAT-1_AFCA_female_body_30_S1                 7.161622   \n",
      "AACGAAATCGTTAGTG-1_AFCA_female_body_30_S1                 7.063048   \n",
      "AAGGTAAGTAGCACAG-1_AFCA_female_body_30_S1                 7.317876   \n",
      "AATCGACGTCTCACGG-1_AFCA_female_body_30_S1                 7.095893   \n",
      "AATGAAGGTTGGGTAG-1_AFCA_female_body_30_S1                 7.171657   \n",
      "\n",
      "                                           log1p_total_counts  \\\n",
      "AAAGTGAGTACTCGAT-1_AFCA_female_body_30_S1            8.248006   \n",
      "AACGAAATCGTTAGTG-1_AFCA_female_body_30_S1            8.094073   \n",
      "AAGGTAAGTAGCACAG-1_AFCA_female_body_30_S1            8.533263   \n",
      "AATCGACGTCTCACGG-1_AFCA_female_body_30_S1            8.171882   \n",
      "AATGAAGGTTGGGTAG-1_AFCA_female_body_30_S1            8.206038   \n",
      "\n",
      "                                           log1p_total_counts_mt dataset  \\\n",
      "AAAGTGAGTACTCGAT-1_AFCA_female_body_30_S1               0.000000    AFCA   \n",
      "AACGAAATCGTTAGTG-1_AFCA_female_body_30_S1               1.386294    AFCA   \n",
      "AAGGTAAGTAGCACAG-1_AFCA_female_body_30_S1               1.386294    AFCA   \n",
      "AATCGACGTCTCACGG-1_AFCA_female_body_30_S1               0.000000    AFCA   \n",
      "AATGAAGGTTGGGTAG-1_AFCA_female_body_30_S1               0.693147    AFCA   \n",
      "\n",
      "                                          fca_annotation  \\\n",
      "AAAGTGAGTACTCGAT-1_AFCA_female_body_30_S1            nan   \n",
      "AACGAAATCGTTAGTG-1_AFCA_female_body_30_S1            nan   \n",
      "AAGGTAAGTAGCACAG-1_AFCA_female_body_30_S1            nan   \n",
      "AATCGACGTCTCACGG-1_AFCA_female_body_30_S1            nan   \n",
      "AATGAAGGTTGGGTAG-1_AFCA_female_body_30_S1            nan   \n",
      "\n",
      "                                                                           afca_annotation  \\\n",
      "AAAGTGAGTACTCGAT-1_AFCA_female_body_30_S1  enterocyte of posterior adult midgut epithelium   \n",
      "AACGAAATCGTTAGTG-1_AFCA_female_body_30_S1   enterocyte of anterior adult midgut epithelium   \n",
      "AAGGTAAGTAGCACAG-1_AFCA_female_body_30_S1  enterocyte of posterior adult midgut epithelium   \n",
      "AATCGACGTCTCACGG-1_AFCA_female_body_30_S1  enterocyte of posterior adult midgut epithelium   \n",
      "AATGAAGGTTGGGTAG-1_AFCA_female_body_30_S1  enterocyte of posterior adult midgut epithelium   \n",
      "\n",
      "                                          afca_annotation_broad  \\\n",
      "AAAGTGAGTACTCGAT-1_AFCA_female_body_30_S1       epithelial cell   \n",
      "AACGAAATCGTTAGTG-1_AFCA_female_body_30_S1       epithelial cell   \n",
      "AAGGTAAGTAGCACAG-1_AFCA_female_body_30_S1       epithelial cell   \n",
      "AATCGACGTCTCACGG-1_AFCA_female_body_30_S1       epithelial cell   \n",
      "AATGAAGGTTGGGTAG-1_AFCA_female_body_30_S1       epithelial cell   \n",
      "\n",
      "                                                            batch  \n",
      "AAAGTGAGTACTCGAT-1_AFCA_female_body_30_S1  AFCA_female_body_30_S1  \n",
      "AACGAAATCGTTAGTG-1_AFCA_female_body_30_S1  AFCA_female_body_30_S1  \n",
      "AAGGTAAGTAGCACAG-1_AFCA_female_body_30_S1  AFCA_female_body_30_S1  \n",
      "AATCGACGTCTCACGG-1_AFCA_female_body_30_S1  AFCA_female_body_30_S1  \n",
      "AATGAAGGTTGGGTAG-1_AFCA_female_body_30_S1  AFCA_female_body_30_S1  \n"
     ]
    },
    {
     "name": "stderr",
     "output_type": "stream",
     "text": [
      "/tmp/ipykernel_654947/3685864643.py:7: ImplicitModificationWarning: Trying to modify attribute `.obs` of view, initializing view as actual.\n",
      "  mf_adata.obs['batch'] = mf_adata.obs.index.map(lambda x: split_by_batch_prefix(x))\n"
     ]
    }
   ],
   "source": [
    "# Remove them from the dataset\n",
    "mf_adata = adata[~(adata.obs.index.isin(mix_adata.obs.index))&(adata.obs['afca_annotation'] != \"unannotated\")]\n",
    "# Only keep the cells that are in teh enterocyte lineage\n",
    "mf_adata = mf_adata[mf_adata.obs['afca_annotation'].isin(entero_subtypes)]\n",
    "\n",
    "# get the batch from the row name\n",
    "mf_adata.obs['batch'] = mf_adata.obs.index.map(lambda x: split_by_batch_prefix(x))\n",
    "print(mf_adata.obs.head())\n"
   ]
  },
  {
   "cell_type": "code",
   "execution_count": 8,
   "id": "062ba606",
   "metadata": {},
   "outputs": [
    {
     "name": "stdout",
     "output_type": "stream",
     "text": [
      "<class 'pandas.core.frame.DataFrame'>\n"
     ]
    }
   ],
   "source": [
    "# Get the observation dataframe as a pandas dataframe\n",
    "mf_adata_obs = mf_adata.obs.copy()\n",
    "print(type(mf_adata_obs))\n",
    "cell_list = []\n",
    "\n",
    "# Set the save path \n",
    "save_path = \"/hpc/shared/onco_janssen/dhaynessimmons/projects/ageing_flies/data/\"\n",
    "os.makedirs(save_path, exist_ok=True)\n",
    "\n",
    "# Gene list of interest\n",
    "gene_list = [\n",
    "    \"Su(var)205\", \"Su(var)3-9\", \"G9a\", \"HP1b\", \"HP1c\", \"HP4\",\n",
    "    \"HP5\", \"HP6\", \"ADD1\", \"Su(var)2-HP2\", \"Su(var)3-7\", \"Lam\",\n",
    "    \"LamC\", \"LBR\", \"Kdm4A\", \"Kdm4B\", \"His2Av\", \"His3.3A\", \"His3.3B\"\n",
    "]"
   ]
  },
  {
   "cell_type": "code",
   "execution_count": 9,
   "id": "a3c22ae2",
   "metadata": {},
   "outputs": [
    {
     "name": "stdout",
     "output_type": "stream",
     "text": [
      "number of cells:  1361\n",
      "Min number of genes expressed :  263\n"
     ]
    }
   ],
   "source": [
    "# Evaluate the QC of the new adata object\n",
    "cell_cnt = mf_adata_obs.shape[0]\n",
    "print(\"number of cells: \", cell_cnt)\n",
    "print(\"Min number of genes expressed : \", mf_adata_obs.n_genes_by_counts.min())\n"
   ]
  },
  {
   "cell_type": "code",
   "execution_count": 10,
   "id": "bb0d2b0e",
   "metadata": {},
   "outputs": [
    {
     "name": "stdout",
     "output_type": "stream",
     "text": [
      "Minimum number of cells in an age group:  161\n",
      "Sufficient cells in each age group to proceed with analysis\n"
     ]
    }
   ],
   "source": [
    "# Check that each age group has at least 100 cells\n",
    "age_grouped = mf_adata_obs.groupby('age', observed=False).size()\n",
    "min_value = age_grouped.min()\n",
    "print(\"Minimum number of cells in an age group: \", min_value)\n",
    "if min_value < 100:\n",
    "    print(\"Not enough cells in an age group to proceed with analysis\")\n",
    "else:\n",
    "    print(\"Sufficient cells in each age group to proceed with analysis\")\n",
    "    # Create a new adata object with the cell type data\n",
    "    cell_list.append(cell_type)\n",
    "del mf_adata_obs"
   ]
  },
  {
   "cell_type": "code",
   "execution_count": 11,
   "id": "f835d627",
   "metadata": {},
   "outputs": [
    {
     "name": "stdout",
     "output_type": "stream",
     "text": [
      "\n",
      "shape of cell type data:  (1361, 15992)\n",
      "\n",
      "shape of cell type data after filtering:  (1361, 10451)\n",
      "\n",
      "\tSaved the new adata object to:  /hpc/shared/onco_janssen/dhaynessimmons/projects/ageing_flies/data/entero_expr_set.h5ad\n",
      "\n"
     ]
    }
   ],
   "source": [
    "\n",
    "# Create a new adata object \n",
    "cell_group_adata = mf_adata\n",
    "print(\"\\nshape of cell type data: \", cell_group_adata.shape)\n",
    "\n",
    "# ----------- Custom gene filtering starts here ------------ #\n",
    "\n",
    "# Compute how many cells express each gene\n",
    "gene_expression_counts = np.array((cell_group_adata.X > 0).sum(axis=0)).flatten()\n",
    "\n",
    "# Get gene names\n",
    "gene_names = pd.Index(cell_group_adata.var_names)\n",
    "\n",
    "# Genes expressed in >= 3 cells\n",
    "genes_expressed_enough = gene_expression_counts >= 3\n",
    "\n",
    "# Create a boolean mask to keep genes that are either:\n",
    "# - expressed in enough cells\n",
    "# - or present in the gene_list\n",
    "gene_list_set = set(gene_list)\n",
    "genes_in_list = gene_names.isin(gene_list_set)\n",
    "\n",
    "# Combine masks\n",
    "genes_to_keep = genes_expressed_enough | genes_in_list\n",
    "\n",
    "# Filter genes\n",
    "cell_group_adata = cell_group_adata[:, genes_to_keep].copy()\n",
    "\n",
    "print(\"\\nshape of cell type data after filtering: \", cell_group_adata.shape)\n",
    "\n",
    "# ----------- End of custom filtering ------------ #\n",
    "\n",
    "# Save the new adata object\n",
    "cell_group_adata.write_h5ad(f\"{save_path}entero_expr_set.h5ad\")\n",
    "print(\"\\n\\tSaved the new adata object to: \", f\"{save_path}entero_expr_set.h5ad\\n\")"
   ]
  }
 ],
 "metadata": {
  "kernelspec": {
   "display_name": "Python 3",
   "language": "python",
   "name": "python3"
  },
  "language_info": {
   "codemirror_mode": {
    "name": "ipython",
    "version": 3
   },
   "file_extension": ".py",
   "mimetype": "text/x-python",
   "name": "python",
   "nbconvert_exporter": "python",
   "pygments_lexer": "ipython3",
   "version": "3.12.2"
  }
 },
 "nbformat": 4,
 "nbformat_minor": 5
}

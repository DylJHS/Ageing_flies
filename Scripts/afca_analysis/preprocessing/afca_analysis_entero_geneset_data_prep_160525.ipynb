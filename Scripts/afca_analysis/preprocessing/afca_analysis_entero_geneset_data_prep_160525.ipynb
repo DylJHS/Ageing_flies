{
 "cells": [
  {
   "cell_type": "code",
   "execution_count": null,
   "id": "c3906a9d",
   "metadata": {},
   "outputs": [],
   "source": [
    "# Description:\n",
    "\"\"\"\n",
    "This script processes a single-nucleus RNA-seq dataset from afca, removes cells with unspecified sex, \n",
    "and filters cell types with fewer than 200 total cells or fewer than 100 cells per age group. For each remaining cell type, \n",
    "it filters out lowly expressed genes, while retaining those expressed in at least 3 cells or included in the predefined gene list. \n",
    "Each processed cell type is saved as a separate .h5ad file.\n",
    "\"\"\"\n",
    "\n",
    "# Import the libraries\n",
    "import os\n",
    "import pandas as pd\n",
    "import scanpy as sc\n",
    "import anndata as ad\n",
    "import numpy as np\n",
    "import re "
   ]
  },
  {
   "cell_type": "code",
   "execution_count": null,
   "id": "c6fdbbed",
   "metadata": {},
   "outputs": [],
   "source": [
    "# Set the functions\n",
    "def split_by_batch_prefix(name):\n",
    "    \"\"\"\n",
    "    Splits the index into two parts:\n",
    "    - Part before 'AFCA' or 'FCA'\n",
    "    - The rest starting with 'AFCA' or 'FCA'\n",
    "    \"\"\"\n",
    "    match = re.search(r'(AFCA|FCA)', name)\n",
    "    i = match.start()\n",
    "    return name[i:]"
   ]
  },
  {
   "cell_type": "code",
   "execution_count": null,
   "id": "b33e5f42",
   "metadata": {},
   "outputs": [],
   "source": [
    "# load the dataset data and get the metadata\n",
    "adata = ad.read_h5ad(\"/hpc/shared/onco_janssen/dhaynessimmons/projects/ageing_flies/data/adata_body_S_v1.0.h5ad\")"
   ]
  },
  {
   "cell_type": "code",
   "execution_count": null,
   "id": "ea5c066a",
   "metadata": {},
   "outputs": [],
   "source": [
    "# print out the basics\n",
    "print([i for i in adata.obs.columns])\n",
    "print(\"shape of full data: \", adata.shape)\n",
    "#value couns for important columns\n",
    "print(\"\\nAge value counts: \", adata.obs[\"age\"].value_counts())\n",
    "print(\"\\nSex value counts: \", adata.obs[\"sex\"].value_counts())\n",
    "print(\"\\nDataset value counts: \", adata.obs[\"dataset\"].value_counts())"
   ]
  },
  {
   "cell_type": "code",
   "execution_count": null,
   "id": "83165470",
   "metadata": {},
   "outputs": [],
   "source": [
    "# Get the unique afca cell types that are part of the enterocyte lineage\n",
    "entero_subtypes = []\n",
    "for cell_type in sorted(adata.obs['afca_annotation'].unique().tolist()):\n",
    "    if \"enterocyte\" in cell_type:\n",
    "        entero_subtypes.append(cell_type)\n",
    "print(\"\\nEnterocyte subtypes: \", entero_subtypes)\n"
   ]
  },
  {
   "cell_type": "code",
   "execution_count": null,
   "id": "7ee5bcb3",
   "metadata": {},
   "outputs": [],
   "source": [
    "# get cells where sex is neither F nor M\n",
    "mix_adata = adata[(adata.obs.sex != \"female\")&(adata.obs.sex != \"male\")]\n",
    "print(mix_adata.obs.shape)"
   ]
  },
  {
   "cell_type": "code",
   "execution_count": null,
   "id": "841c1eb4",
   "metadata": {},
   "outputs": [],
   "source": [
    "# Remove them from the dataset\n",
    "mf_adata = adata[~(adata.obs.index.isin(mix_adata.obs.index))&(adata.obs['afca_annotation'] != \"unannotated\")]\n",
    "# Only keep the cells that are in teh enterocyte lineage\n",
    "mf_adata = mf_adata[mf_adata.obs['afca_annotation'].isin(entero_subtypes)]\n",
    "\n",
    "# get the indiv from the row name\n",
    "mf_adata.obs['indiv'] = mf_adata.obs.index.map(lambda x: split_by_batch_prefix(x))\n",
    "print(mf_adata.obs.head())\n"
   ]
  },
  {
   "cell_type": "code",
   "execution_count": null,
   "id": "062ba606",
   "metadata": {},
   "outputs": [],
   "source": [
    "# Get the observation dataframe as a pandas dataframe\n",
    "mf_adata_obs = mf_adata.obs.copy()\n",
    "print(type(mf_adata_obs))\n",
    "cell_list = []\n",
    "\n",
    "# Set the save path \n",
    "save_path = \"/hpc/shared/onco_janssen/dhaynessimmons/projects/ageing_flies/data/\"\n",
    "os.makedirs(save_path, exist_ok=True)\n",
    "\n",
    "# Gene list of interest\n",
    "gene_list = [\n",
    "    \"Su(var)205\", \"Su(var)3-9\", \"G9a\", \"HP1b\", \"HP1c\", \"HP4\",\n",
    "    \"HP5\", \"HP6\", \"ADD1\", \"Su(var)2-HP2\", \"Su(var)3-7\", \"Lam\",\n",
    "    \"LamC\", \"LBR\", \"Kdm4A\", \"Kdm4B\", \"His2Av\", \"His3.3A\", \"His3.3B\"\n",
    "]"
   ]
  },
  {
   "cell_type": "code",
   "execution_count": null,
   "id": "a3c22ae2",
   "metadata": {},
   "outputs": [],
   "source": [
    "# Evaluate the QC of the new adata object\n",
    "cell_cnt = mf_adata_obs.shape[0]\n",
    "print(\"number of cells: \", cell_cnt)\n",
    "print(\"Min number of genes expressed : \", mf_adata_obs.n_genes_by_counts.min())\n"
   ]
  },
  {
   "cell_type": "code",
   "execution_count": null,
   "id": "bb0d2b0e",
   "metadata": {},
   "outputs": [],
   "source": [
    "# Check that each age group has at least 100 cells\n",
    "age_grouped = mf_adata_obs.groupby('age', observed=False).size()\n",
    "min_value = age_grouped.min()\n",
    "print(\"Minimum number of cells in an age group: \", min_value)\n",
    "if min_value < 100:\n",
    "    print(\"Not enough cells in an age group to proceed with analysis\")\n",
    "else:\n",
    "    print(\"Sufficient cells in each age group to proceed with analysis\")\n",
    "    # Create a new adata object with the cell type data\n",
    "    cell_list.append(cell_type)\n",
    "del mf_adata_obs"
   ]
  },
  {
   "cell_type": "code",
   "execution_count": null,
   "id": "f835d627",
   "metadata": {},
   "outputs": [],
   "source": [
    "\n",
    "# Create a new adata object \n",
    "cell_group_adata = mf_adata\n",
    "print(\"\\nshape of cell type data: \", cell_group_adata.shape)\n",
    "\n",
    "# ----------- Custom gene filtering starts here ------------ #\n",
    "\n",
    "# Compute how many cells express each gene\n",
    "gene_expression_counts = np.array((cell_group_adata.X > 0).sum(axis=0)).flatten()\n",
    "\n",
    "# Get gene names\n",
    "gene_names = pd.Index(cell_group_adata.var_names)\n",
    "\n",
    "# Genes expressed in >= 3 cells\n",
    "genes_expressed_enough = gene_expression_counts >= 3\n",
    "\n",
    "# Create a boolean mask to keep genes that are either:\n",
    "# - expressed in enough cells\n",
    "# - or present in the gene_list\n",
    "gene_list_set = set(gene_list)\n",
    "genes_in_list = gene_names.isin(gene_list_set)\n",
    "\n",
    "# Combine masks\n",
    "genes_to_keep = genes_expressed_enough | genes_in_list\n",
    "\n",
    "# Filter genes\n",
    "cell_group_adata = cell_group_adata[:, genes_to_keep].copy()\n",
    "\n",
    "print(\"\\nshape of cell type data after filtering: \", cell_group_adata.shape)\n",
    "\n",
    "# ----------- End of custom filtering ------------ #\n",
    "\n",
    "# Save the new adata object\n",
    "cell_group_adata.write_h5ad(f\"{save_path}entero_expr_set.h5ad\")\n",
    "print(\"\\n\\tSaved the new adata object to: \", f\"{save_path}entero_expr_set.h5ad\\n\")"
   ]
  }
 ],
 "metadata": {
  "kernelspec": {
   "display_name": "Python 3",
   "language": "python",
   "name": "python3"
  },
  "language_info": {
   "codemirror_mode": {
    "name": "ipython",
    "version": 3
   },
   "file_extension": ".py",
   "mimetype": "text/x-python",
   "name": "python",
   "nbconvert_exporter": "python",
   "pygments_lexer": "ipython3",
   "version": "3.12.2"
  }
 },
 "nbformat": 4,
 "nbformat_minor": 5
}

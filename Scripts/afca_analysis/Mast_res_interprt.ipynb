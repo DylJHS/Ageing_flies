{
 "cells": [
  {
   "cell_type": "code",
   "execution_count": 1,
   "id": "0dc6dcfc",
   "metadata": {},
   "outputs": [],
   "source": [
    "import os\n",
    "import pandas as pd"
   ]
  },
  {
   "cell_type": "code",
   "execution_count": 2,
   "id": "d5c67f11",
   "metadata": {},
   "outputs": [],
   "source": [
    "# Define the pandas display options\n",
    "pd.set_option('display.max_columns', 50)\n",
    "pd.set_option('display.width', 200)  # Use terminal width (or set a large int like 2000)\n",
    "pd.set_option('display.max_colwidth', None)  # Avoid truncating wide text columns"
   ]
  },
  {
   "cell_type": "code",
   "execution_count": 3,
   "id": "1b35c52f",
   "metadata": {},
   "outputs": [
    {
     "name": "stdout",
     "output_type": "stream",
     "text": [
      "Contents of the directory:\n",
      "markers_adult alary muscle.csv\n",
      "markers_adult fat body_body.csv\n",
      "markers_adult glial cell.csv\n",
      "markers_adult hindgut.csv\n",
      "markers_adult oenocyte.csv\n",
      "markers_adult peripheral nervous system.csv\n",
      "markers_adult tracheal cell.csv\n",
      "markers_adult ventral nervous system.csv\n",
      "markers_cell body glial cell.csv\n",
      "markers_crop.csv\n",
      "markers_ejaculatory bulb.csv\n",
      "markers_enteroblast.csv\n",
      "markers_eo support cell.csv\n",
      "markers_epithelial cell_body.csv\n",
      "markers_female reproductive system.csv\n",
      "markers_follicle cell.csv\n",
      "markers_germline cell.csv\n",
      "markers_gustatory receptor neuron.csv\n",
      "markers_hemocyte_body.csv\n",
      "markers_indirect flight muscle.csv\n",
      "markers_intestinal stem cell.csv\n",
      "markers_male accessory gland main cell.csv\n",
      "markers_mechanosensory neuron of haltere.csv\n",
      "markers_muscle cell.csv\n",
      "markers_oviduct.csv\n",
      "markers_perineurial glial sheath.csv\n",
      "markers_pheromone-sensing neuron.csv\n",
      "markers_scolopidial neuron.csv\n",
      "markers_seminal vesicle & testis epithelia.csv\n",
      "markers_subperineurial glial cell_body.csv\n",
      "markers_visceral muscle of the midgut.csv\n"
     ]
    }
   ],
   "source": [
    "# Set the paths\n",
    "working_dir = 'D:/OneDrive/dhaynessimmons/OneDrive - UMC Utrecht/Documenten/projects/ageing_flies'\n",
    "input_directory = os.path.join(working_dir, 'Results/age_scdgea/ct_specific_MAST')\n",
    "\n",
    "print(\"Contents of the directory:\")\n",
    "for filename in os.listdir(input_directory):\n",
    "    print(filename)"
   ]
  },
  {
   "cell_type": "code",
   "execution_count": 4,
   "id": "eaf7eefa",
   "metadata": {},
   "outputs": [],
   "source": [
    "# Define the genes of interest\n",
    "genes_of_interest = [\n",
    "    \"Su(var)205\",\"Su(var)3-9\",\"G9a\", \"HP1b\", \"HP1c\", \n",
    "    \"HP4\", \"HP5\", \"HP6\", \"ADD1\", \"Su(var)2-HP2\", \n",
    "    \"Su(var)3-7\", \"Lam\", \"LamC\", \"LBR\", \"Kdm4A\", \n",
    "    \"Kdm4B\", \"His2Av\", \"His3.3A\", \"His3.3B\"\n",
    "]"
   ]
  },
  {
   "cell_type": "code",
   "execution_count": null,
   "id": "ce3ec8fc",
   "metadata": {},
   "outputs": [
    {
     "ename": "NameError",
     "evalue": "name 'pd' is not defined",
     "output_type": "error",
     "traceback": [
      "\u001b[31m---------------------------------------------------------------------------\u001b[39m",
      "\u001b[31mNameError\u001b[39m                                 Traceback (most recent call last)",
      "\u001b[36mCell\u001b[39m\u001b[36m \u001b[39m\u001b[32mIn[2]\u001b[39m\u001b[32m, line 1\u001b[39m\n\u001b[32m----> \u001b[39m\u001b[32m1\u001b[39m inter_df = \u001b[43mpd\u001b[49m.DataFrame()\n\u001b[32m      2\u001b[39m \u001b[38;5;28;01mfor\u001b[39;00m file \u001b[38;5;129;01min\u001b[39;00m os.listdir(input_directory):\n\u001b[32m      3\u001b[39m     \u001b[38;5;28;01mif\u001b[39;00m file.endswith(\u001b[33m'\u001b[39m\u001b[33m.csv\u001b[39m\u001b[33m'\u001b[39m):\n\u001b[32m      4\u001b[39m         \u001b[38;5;66;03m# read the CSV file into a DataFrame\u001b[39;00m\n",
      "\u001b[31mNameError\u001b[39m: name 'pd' is not defined"
     ]
    }
   ],
   "source": [
    "inter_df = pd.DataFrame()\n",
    "for file in os.listdir(input_directory):\n",
    "    if file.endswith('.csv'):\n",
    "        # read the CSV file into a DataFrame\n",
    "        df = pd.read_csv(os.path.join(input_directory, file))\n",
    "        print(\n",
    "            f\"\\n\\nProcessing file: {file}\\n\"\n",
    "            # df.head(3)\n",
    "        )\n",
    "        \n",
    "        subset = df[\n",
    "            # (df['gene'].isin(genes_of_interest)) &\n",
    "            (df['p_val_adj'] < 0.1) &\n",
    "            (abs(df['avg_log2FC']) >= 1)\n",
    "        ]\n",
    "        \n",
    "        if subset.empty:\n",
    "            print(f\"No significant genes found in {file} with the specified criteria.\")\n",
    "        else:\n",
    "            print(f\"Found {len(subset)} significant genes in {file} with the specified criteria.\")\n",
    "            print(subset)\n",
    "            \n",
    "            # Append the subset to the inter_df DataFrame\n",
    "            inter_df = pd.concat([inter_df, subset], ignore_index=True)\n",
    "\n",
    "# Save the combined DataFrame to a CSV file\n",
    "output_file = os.path.join(working_dir, 'Results/age_scdgea/MAST_combined_all_significant_genes.csv')\n",
    "inter_df.to_csv(output_file, index=False)\n"
   ]
  },
  {
   "cell_type": "code",
   "execution_count": null,
   "id": "bf33abdc",
   "metadata": {},
   "outputs": [],
   "source": []
  }
 ],
 "metadata": {
  "kernelspec": {
   "display_name": "base",
   "language": "python",
   "name": "python3"
  },
  "language_info": {
   "codemirror_mode": {
    "name": "ipython",
    "version": 3
   },
   "file_extension": ".py",
   "mimetype": "text/x-python",
   "name": "python",
   "nbconvert_exporter": "python",
   "pygments_lexer": "ipython3",
   "version": "3.12.9"
  }
 },
 "nbformat": 4,
 "nbformat_minor": 5
}
